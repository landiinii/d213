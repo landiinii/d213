{
  "cells": [
    {
      "cell_type": "markdown",
      "metadata": {
        "id": "iChNAwzXVr8C"
      },
      "source": [
        "# NLM3 — Task 2: Sentiment Analysis Using Neural Networks"
      ]
    },
    {
      "cell_type": "markdown",
      "metadata": {
        "id": "HZx8G29xXTFS"
      },
      "source": [
        "## Part I: Research Question"
      ]
    },
    {
      "cell_type": "markdown",
      "metadata": {
        "id": "j5yHB9VyV32m"
      },
      "source": [
        "### A.  Describe the purpose of this data analysis by doing the following:\n",
        "\n"
      ]
    },
    {
      "cell_type": "markdown",
      "metadata": {
        "id": "_UUNK0VEWb1v"
      },
      "source": [
        "1. Can we automatically determine the sentiment (either positive, or negative) of a future reviews left online, so that they can automatically be directed to the appropriate departments for follow up when necesarry.\n",
        "\n",
        "2. The goal is to build a neural network, trained on previous reviews the company has recieved across 2 different websites (amazon and yelp). This Neural Network will have the ability to determine the sentiment of a future review left on on of these sites.\n",
        "\n",
        "3. A Recurrent Neural Network or RNN can be used to determine the binary sentiment of a text string after being trained on labeled data. Since we already have labeled data, this is a good option for what we are needing to do."
      ]
    },
    {
      "cell_type": "markdown",
      "metadata": {
        "id": "1FsR7fv_aN-L"
      },
      "source": [
        "## Part II: Data Preparation"
      ]
    },
    {
      "cell_type": "code",
      "execution_count": 1,
      "metadata": {
        "id": "3iTKbg8QVp8p"
      },
      "outputs": [],
      "source": [
        "import pandas as pd\n",
        "import numpy as np\n",
        "import matplotlib.pyplot as plt\n",
        "import seaborn as sns\n",
        "import tensorflow as tf\n",
        "import re\n",
        "import math\n",
        "from tensorflow.keras.preprocessing.text import Tokenizer\n",
        "from tensorflow.keras.preprocessing.sequence import pad_sequences\n",
        "from tensorflow.keras.models import Sequential\n",
        "from tensorflow.keras.layers import Dense, Embedding, LSTM\n",
        "from tensorflow.keras.callbacks import EarlyStopping"
      ]
    },
    {
      "cell_type": "code",
      "execution_count": 2,
      "metadata": {
        "colab": {
          "base_uri": "https://localhost:8080/",
          "height": 236
        },
        "id": "-3Kek7ih-rXs",
        "outputId": "e3474a89-f3db-4066-d7c6-58c5f09f7f1f"
      },
      "outputs": [
        {
          "data": {
            "text/html": [
              "<div>\n",
              "<style scoped>\n",
              "    .dataframe tbody tr th:only-of-type {\n",
              "        vertical-align: middle;\n",
              "    }\n",
              "\n",
              "    .dataframe tbody tr th {\n",
              "        vertical-align: top;\n",
              "    }\n",
              "\n",
              "    .dataframe thead th {\n",
              "        text-align: right;\n",
              "    }\n",
              "</style>\n",
              "<table border=\"1\" class=\"dataframe\">\n",
              "  <thead>\n",
              "    <tr style=\"text-align: right;\">\n",
              "      <th></th>\n",
              "      <th>review</th>\n",
              "      <th>score</th>\n",
              "    </tr>\n",
              "  </thead>\n",
              "  <tbody>\n",
              "    <tr>\n",
              "      <th>0</th>\n",
              "      <td>So there is no way for me to plug it in here i...</td>\n",
              "      <td>0</td>\n",
              "    </tr>\n",
              "    <tr>\n",
              "      <th>1</th>\n",
              "      <td>Good case, Excellent value.</td>\n",
              "      <td>1</td>\n",
              "    </tr>\n",
              "    <tr>\n",
              "      <th>...</th>\n",
              "      <td>...</td>\n",
              "      <td>...</td>\n",
              "    </tr>\n",
              "    <tr>\n",
              "      <th>1998</th>\n",
              "      <td>The whole experience was underwhelming, and I ...</td>\n",
              "      <td>0</td>\n",
              "    </tr>\n",
              "    <tr>\n",
              "      <th>1999</th>\n",
              "      <td>Then, as if I hadn't wasted enough of my life ...</td>\n",
              "      <td>0</td>\n",
              "    </tr>\n",
              "  </tbody>\n",
              "</table>\n",
              "<p>2000 rows × 2 columns</p>\n",
              "</div>"
            ],
            "text/plain": [
              "                                                 review  score\n",
              "0     So there is no way for me to plug it in here i...      0\n",
              "1                           Good case, Excellent value.      1\n",
              "...                                                 ...    ...\n",
              "1998  The whole experience was underwhelming, and I ...      0\n",
              "1999  Then, as if I hadn't wasted enough of my life ...      0\n",
              "\n",
              "[2000 rows x 2 columns]"
            ]
          },
          "metadata": {},
          "output_type": "display_data"
        }
      ],
      "source": [
        "amazon_df = pd.read_csv('amazon_cells_labelled.txt', delimiter='\\t', header=None)\n",
        "yelp_df = pd.read_csv('yelp_labelled.txt', delimiter='\\t', header=None)\n",
        "\n",
        "\n",
        "df = pd.concat([amazon_df, yelp_df], ignore_index=True)\n",
        "df.columns = ['review', 'score']\n",
        "\n",
        "\n",
        "with pd.option_context('display.max_rows', 5, 'display.max_columns', None):\n",
        "    display(df)"
      ]
    },
    {
      "cell_type": "markdown",
      "metadata": {
        "id": "2bRBZEr4arZ-"
      },
      "source": [
        "### B. Summarize the data cleaning process by doing the following:\n",
        "\n"
      ]
    },
    {
      "cell_type": "markdown",
      "metadata": {
        "id": "Wnu26GaM_cpU"
      },
      "source": [
        "> 1. Perform exploratory data analysis on the chosen data set, and include an explanation of each of the following elements:"
      ]
    },
    {
      "cell_type": "markdown",
      "metadata": {},
      "source": [
        "- presence of unusual characters (e.g., emojis, non-English characters)\n",
        "\n",
        "Letters, numbers, and punctiation are all expected characters in reviews posted online. The neural network should be able to handle these typical english characters well. But often punctuation marks do not contribute significant value to the sentiment of the phrase, so to simplify the analysis and better facilitate proper results, we are going to remove them. Additionally, any non english characters or non literary characters like emojis would clash with the otherwise english alphabet the neural network will be using. So we should identify these other characters and remove them too. Ultimately this means only letters and numbers will remain in our text set. "
      ]
    },
    {
      "cell_type": "code",
      "execution_count": 3,
      "metadata": {
        "id": "brMAAvEk_frr"
      },
      "outputs": [
        {
          "name": "stdout",
          "output_type": "stream",
          "text": [
            "\t\n",
            "!\"#$%&'()*+,-./:;?[]éê\n"
          ]
        }
      ],
      "source": [
        "other_characters = set()\n",
        "for review in df['review']:\n",
        "    other_characters.update(re.findall(r'[^a-zA-Z0-9\\s]', review))\n",
        "\n",
        "other_characters.add('\\t\\n')\n",
        "other_characters = ''.join(sorted(list(other_characters)))    \n",
        "print(other_characters)\n",
        "\n",
        "# df['review'] = df['review'].apply(lambda x: re.sub(r'[^a-zA-Z0-9\\s]+', '', x))"
      ]
    },
    {
      "cell_type": "markdown",
      "metadata": {},
      "source": [
        "- vocabulary size\n",
        "\n",
        "Using the tf tokenizer we can split up our text set into a vocabulary. We are removing all of the non english characters that our previous step reported having found, we are lowercasing everything for standardization, we are splitting on the space character, and we are replacing the unknown characters (mostly numbers) with the <OOV> symbol."
      ]
    },
    {
      "cell_type": "code",
      "execution_count": 4,
      "metadata": {},
      "outputs": [
        {
          "name": "stdout",
          "output_type": "stream",
          "text": [
            "Size of Vocabulary: 3230\n",
            "Sampling of Words: [('with', 16), ('very', 17), ('t', 18), ('good', 19), ('great', 20)]\n"
          ]
        }
      ],
      "source": [
        "\n",
        "tokenizer = Tokenizer(\n",
        "    filters=other_characters,\n",
        "    lower=True,\n",
        "    split=' ',\n",
        "    oov_token='<OOV>',\n",
        ")\n",
        "tokenizer.fit_on_texts(df['review'])\n",
        "word_count = tokenizer.word_index\n",
        "\n",
        "vocab_size = len(word_count) + 1\n",
        "\n",
        "print('Size of Vocabulary:', vocab_size)\n",
        "print('Sampling of Words:', list(word_count.items())[15:20])\n"
      ]
    },
    {
      "cell_type": "markdown",
      "metadata": {},
      "source": [
        "\n",
        "- proposed word embedding length\n",
        "\n",
        "There are a number of different ways to determine the embedding length, and really it should be optimized foir to find the best embedding length for your given vector space and vocabulary. Some sources suggest simply using 100 dimensions. Others say to take the 4th square of your vocabulary size. We can try with both. The fourth square of my vocabulary size (rounded up) is 8."
      ]
    },
    {
      "cell_type": "code",
      "execution_count": 5,
      "metadata": {},
      "outputs": [
        {
          "name": "stdout",
          "output_type": "stream",
          "text": [
            "Embedding Length: 8\n"
          ]
        }
      ],
      "source": [
        "embedding_length = int(np.ceil(np.sqrt(np.ceil(np.sqrt(vocab_size)))))\n",
        "\n",
        "print('Embedding Length:', embedding_length)"
      ]
    },
    {
      "cell_type": "markdown",
      "metadata": {},
      "source": [
        "\n",
        "- statistical justification for the chosen maximum sequence length\n",
        "\n",
        "In order to maintain as much information as possible from the input dataset, I am going to elect to keep as much information as possible, and use padding to normalize my vector space for the shorter sentences. Which means my maximum sequence length will be 32."
      ]
    },
    {
      "cell_type": "code",
      "execution_count": 6,
      "metadata": {},
      "outputs": [
        {
          "name": "stdout",
          "output_type": "stream",
          "text": [
            "Max Sentence Length: 32\n",
            "Min Sentence Length: 1\n"
          ]
        }
      ],
      "source": [
        "max_sentence_length = 0\n",
        "min_sentence_length = math.inf\n",
        "for review in df['review']:\n",
        "    if len(review.split()) > max_sentence_length:\n",
        "        max_sentence_length = len(review.split())\n",
        "    if len(review.split()) < min_sentence_length:\n",
        "        min_sentence_length = len(review.split())\n",
        "        \n",
        "print('Max Sentence Length:', max_sentence_length)\n",
        "print('Min Sentence Length:', min_sentence_length)"
      ]
    },
    {
      "cell_type": "markdown",
      "metadata": {
        "id": "X7ps2dY3auzY"
      },
      "source": [
        "> 2.  Describe the goals of the tokenization process, including any code generated and packages that are used to normalize text during the tokenization process.\n",
        "\n",
        "The goal of the tokenization process is to reduce the words from the text input set into numerical representations. I used the tf.keras tokenizer package to assign indexes to each unique word inside my dataset. The collection of these unique words makes up the vocabulary of my dataset. All of the code to do this can be seen above."
      ]
    },
    {
      "cell_type": "markdown",
      "metadata": {
        "id": "ZoPXJaD6Ac_F"
      },
      "source": [
        "> 3.  Explain the padding process used to standardize the length of sequences. Include the following in your explanation:\n",
        "\n",
        "To produce the padding matrix I used the pad_sequences function from the tf.keras library again. This utilized the already produced word indexes and the predetermined max length of the sequences to build a matrix of numbers. Where each row in the matrix represents 1 review. And each entry in that row represents 1 word from that review. For reviews shorter than the decided 32 length, 0s are used to fill in (or pad) the end of the row. An example of one of these number transformed and padded sequences can be seen below."
      ]
    },
    {
      "cell_type": "code",
      "execution_count": 7,
      "metadata": {
        "id": "rHt3mlKMSZDS"
      },
      "outputs": [
        {
          "name": "stdout",
          "output_type": "stream",
          "text": [
            "Padding Shape: (2000, 32)\n",
            "Padding Sample: [  29   56    8   59  143   13   64    7  271    5   15   48   15    2\n",
            "  150  451    3   63  114    6 1418    0    0    0    0    0    0    0\n",
            "    0    0    0    0]\n"
          ]
        }
      ],
      "source": [
        "padding = pad_sequences(\n",
        "    tokenizer.texts_to_sequences(df['review']),\n",
        "    maxlen=max_sentence_length,\n",
        "    padding='post',\n",
        "    truncating='post',\n",
        ")\n",
        "\n",
        "print('Padding Shape:', padding.shape)\n",
        "print('Padding Sample:', padding[0])"
      ]
    },
    {
      "cell_type": "markdown",
      "metadata": {
        "id": "XcNT1cEmAdt4"
      },
      "source": [
        "> 4.  Identify how many categories of sentiment will be used and an activation function for the final dense layer of the network.\n",
        "   \n",
        "Displayed below, the total number of sentiment outputs labeled in our dataset is 2. 0 meaning negative and 1 meaning positive. The activation function we will use is the Sigmoid function. It is an industry standard for binary outputs and works well with NLP problems as it returns a probability of labeling which is most reasonable for the likely outputs of an NLP problem."
      ]
    },
    {
      "cell_type": "code",
      "execution_count": 8,
      "metadata": {
        "id": "Dvw186EOHEmP"
      },
      "outputs": [
        {
          "name": "stdout",
          "output_type": "stream",
          "text": [
            "Outputs: (2) [0 1]\n"
          ]
        }
      ],
      "source": [
        "outputs = df['score'].astype('int32').unique()\n",
        "print('Outputs:', f'({len(outputs)})', outputs)\n",
        "num_outputs = len(outputs)\n"
      ]
    },
    {
      "cell_type": "markdown",
      "metadata": {
        "id": "vba42DNFrEVL"
      },
      "source": [
        "> 5.  Explain the steps used to prepare the data for analysis, including the size of the training, validation, and test set split (based on the industry average).\n",
        "\n",
        "The Steps used to prepare the data for training are as follows:\n",
        "- Import the datasets from their respective files and read them in as pandas dataframes. \n",
        "- Validate the data by ensuring that the outputs are within the expected scope, and that the inputs are made up of only the expected characters.\n",
        "- Remove any unwanted characters from the set of inputs.\n",
        "- Cast the inputs all to lowercase so that cases don't mess up the tokenization process.\n",
        "- Tokenize the inputs into numerical \"word index\" representations.\n",
        "- Apply padding to the tokenized inputs so that they can all be the same shape.\n",
        "- Split the Dataset into a Training set and a Testing set.\n",
        "\n",
        "This last step is seen below, where we split the inputs and their corresponding outputs into 2 groups. A training set that is 80% of the data. And a test set that is the other 20%."
      ]
    },
    {
      "cell_type": "code",
      "execution_count": 9,
      "metadata": {
        "id": "hW9HfEPTI1h2"
      },
      "outputs": [],
      "source": [
        "training_size = int(len(df) * 0.8)\n",
        "training_input_padded = padding[:training_size]\n",
        "training_output = df['score'][:training_size].values.reshape(-1, 1)\n",
        "testing_input_padded = padding[training_size:]\n",
        "testing_output = df['score'][training_size:].values.reshape(-1, 1)"
      ]
    },
    {
      "cell_type": "markdown",
      "metadata": {
        "id": "GEQ05kv-AePQ"
      },
      "source": [
        "> *6.  Provide a copy of the cleaned data set.*\n",
        "\n",
        "Cleaned dataframe ready for analyisis will be included in the upload by the name of `cleaned_data.csv`"
      ]
    },
    {
      "cell_type": "code",
      "execution_count": 10,
      "metadata": {
        "id": "e86QI5maMFWq"
      },
      "outputs": [],
      "source": [
        "df['review'] = padding.tolist()\n",
        "df.to_csv('cleaned_data.csv', index=False)  # Save to a CSV file"
      ]
    },
    {
      "cell_type": "markdown",
      "metadata": {
        "id": "hawIvlmAa6B1"
      },
      "source": [
        "## Part III: Network Architecture"
      ]
    },
    {
      "cell_type": "code",
      "execution_count": 11,
      "metadata": {},
      "outputs": [
        {
          "name": "stdout",
          "output_type": "stream",
          "text": [
            "Epoch 1/15\n",
            "\u001b[1m40/40\u001b[0m \u001b[32m━━━━━━━━━━━━━━━━━━━━\u001b[0m\u001b[37m\u001b[0m \u001b[1m1s\u001b[0m 12ms/step - accuracy: 0.4580 - loss: 0.6965 - val_accuracy: 0.5594 - val_loss: 0.6875\n",
            "Epoch 2/15\n",
            "\u001b[1m40/40\u001b[0m \u001b[32m━━━━━━━━━━━━━━━━━━━━\u001b[0m\u001b[37m\u001b[0m \u001b[1m0s\u001b[0m 9ms/step - accuracy: 0.5028 - loss: 0.6944 - val_accuracy: 0.6000 - val_loss: 0.6900\n",
            "Epoch 3/15\n",
            "\u001b[1m40/40\u001b[0m \u001b[32m━━━━━━━━━━━━━━━━━━━━\u001b[0m\u001b[37m\u001b[0m \u001b[1m0s\u001b[0m 9ms/step - accuracy: 0.6260 - loss: 0.6408 - val_accuracy: 0.7531 - val_loss: 0.5281\n",
            "Epoch 4/15\n",
            "\u001b[1m40/40\u001b[0m \u001b[32m━━━━━━━━━━━━━━━━━━━━\u001b[0m\u001b[37m\u001b[0m \u001b[1m0s\u001b[0m 9ms/step - accuracy: 0.8703 - loss: 0.3326 - val_accuracy: 0.7625 - val_loss: 0.6167\n",
            "Epoch 5/15\n",
            "\u001b[1m40/40\u001b[0m \u001b[32m━━━━━━━━━━━━━━━━━━━━\u001b[0m\u001b[37m\u001b[0m \u001b[1m0s\u001b[0m 9ms/step - accuracy: 0.9478 - loss: 0.1698 - val_accuracy: 0.7656 - val_loss: 0.5646\n",
            "Epoch 6/15\n",
            "\u001b[1m40/40\u001b[0m \u001b[32m━━━━━━━━━━━━━━━━━━━━\u001b[0m\u001b[37m\u001b[0m \u001b[1m0s\u001b[0m 9ms/step - accuracy: 0.9588 - loss: 0.1382 - val_accuracy: 0.7688 - val_loss: 0.7523\n",
            "Epoch 7/15\n",
            "\u001b[1m40/40\u001b[0m \u001b[32m━━━━━━━━━━━━━━━━━━━━\u001b[0m\u001b[37m\u001b[0m \u001b[1m0s\u001b[0m 9ms/step - accuracy: 0.9794 - loss: 0.0864 - val_accuracy: 0.7719 - val_loss: 0.6480\n",
            "Epoch 8/15\n",
            "\u001b[1m40/40\u001b[0m \u001b[32m━━━━━━━━━━━━━━━━━━━━\u001b[0m\u001b[37m\u001b[0m \u001b[1m0s\u001b[0m 9ms/step - accuracy: 0.9820 - loss: 0.0583 - val_accuracy: 0.7531 - val_loss: 0.7956\n",
            "Epoch 9/15\n",
            "\u001b[1m40/40\u001b[0m \u001b[32m━━━━━━━━━━━━━━━━━━━━\u001b[0m\u001b[37m\u001b[0m \u001b[1m0s\u001b[0m 9ms/step - accuracy: 0.9835 - loss: 0.0619 - val_accuracy: 0.7812 - val_loss: 0.7464\n",
            "Epoch 10/15\n",
            "\u001b[1m40/40\u001b[0m \u001b[32m━━━━━━━━━━━━━━━━━━━━\u001b[0m\u001b[37m\u001b[0m \u001b[1m0s\u001b[0m 9ms/step - accuracy: 0.9908 - loss: 0.0414 - val_accuracy: 0.7594 - val_loss: 0.7786\n",
            "Epoch 11/15\n",
            "\u001b[1m40/40\u001b[0m \u001b[32m━━━━━━━━━━━━━━━━━━━━\u001b[0m\u001b[37m\u001b[0m \u001b[1m0s\u001b[0m 9ms/step - accuracy: 0.9899 - loss: 0.0442 - val_accuracy: 0.7688 - val_loss: 0.9713\n",
            "Epoch 12/15\n",
            "\u001b[1m40/40\u001b[0m \u001b[32m━━━━━━━━━━━━━━━━━━━━\u001b[0m\u001b[37m\u001b[0m \u001b[1m0s\u001b[0m 9ms/step - accuracy: 0.9807 - loss: 0.0644 - val_accuracy: 0.7563 - val_loss: 1.1928\n"
          ]
        }
      ],
      "source": [
        "# Model\n",
        "stopping = EarlyStopping(\n",
        "    monitor='val_accuracy',\n",
        "    patience=3,\n",
        "    verbose=0,\n",
        "    mode='auto',\n",
        "    restore_best_weights=True\n",
        ")\n",
        "model = Sequential([\n",
        "    Embedding(vocab_size, 100),\n",
        "    LSTM(64, dropout=0.5),\n",
        "    Dense(1, activation='sigmoid'),\n",
        "])\n",
        "model.compile(optimizer='adam',loss='binary_crossentropy', metrics=['accuracy'])\n",
        "\n",
        "history = model.fit(\n",
        "    training_input_padded, \n",
        "    training_output, \n",
        "    epochs=15,\n",
        "    validation_split=0.2,\n",
        "    callbacks=[stopping],\n",
        "    verbose=1\n",
        ")"
      ]
    },
    {
      "cell_type": "markdown",
      "metadata": {
        "id": "9rh4l2SLa7kx"
      },
      "source": [
        "### C.  Describe the type of network used by doing the following:"
      ]
    },
    {
      "cell_type": "markdown",
      "metadata": {
        "id": "e68HIAGBRYfK"
      },
      "source": [
        "#### 1. Provide the output of the model summary of the function from TensorFlow.\n",
        "\n"
      ]
    },
    {
      "cell_type": "code",
      "execution_count": 12,
      "metadata": {
        "id": "WBctOwGw3JQU"
      },
      "outputs": [
        {
          "data": {
            "text/html": [
              "<pre style=\"white-space:pre;overflow-x:auto;line-height:normal;font-family:Menlo,'DejaVu Sans Mono',consolas,'Courier New',monospace\"><span style=\"font-weight: bold\">Model: \"sequential\"</span>\n",
              "</pre>\n"
            ],
            "text/plain": [
              "\u001b[1mModel: \"sequential\"\u001b[0m\n"
            ]
          },
          "metadata": {},
          "output_type": "display_data"
        },
        {
          "data": {
            "text/html": [
              "<pre style=\"white-space:pre;overflow-x:auto;line-height:normal;font-family:Menlo,'DejaVu Sans Mono',consolas,'Courier New',monospace\">┏━━━━━━━━━━━━━━━━━━━━━━━━━━━━━━━━━┳━━━━━━━━━━━━━━━━━━━━━━━━┳━━━━━━━━━━━━━━━┓\n",
              "┃<span style=\"font-weight: bold\"> Layer (type)                    </span>┃<span style=\"font-weight: bold\"> Output Shape           </span>┃<span style=\"font-weight: bold\">       Param # </span>┃\n",
              "┡━━━━━━━━━━━━━━━━━━━━━━━━━━━━━━━━━╇━━━━━━━━━━━━━━━━━━━━━━━━╇━━━━━━━━━━━━━━━┩\n",
              "│ embedding (<span style=\"color: #0087ff; text-decoration-color: #0087ff\">Embedding</span>)           │ (<span style=\"color: #00af00; text-decoration-color: #00af00\">32</span>, <span style=\"color: #00af00; text-decoration-color: #00af00\">32</span>, <span style=\"color: #00af00; text-decoration-color: #00af00\">100</span>)          │       <span style=\"color: #00af00; text-decoration-color: #00af00\">323,000</span> │\n",
              "├─────────────────────────────────┼────────────────────────┼───────────────┤\n",
              "│ lstm (<span style=\"color: #0087ff; text-decoration-color: #0087ff\">LSTM</span>)                     │ (<span style=\"color: #00af00; text-decoration-color: #00af00\">32</span>, <span style=\"color: #00af00; text-decoration-color: #00af00\">64</span>)               │        <span style=\"color: #00af00; text-decoration-color: #00af00\">42,240</span> │\n",
              "├─────────────────────────────────┼────────────────────────┼───────────────┤\n",
              "│ dense (<span style=\"color: #0087ff; text-decoration-color: #0087ff\">Dense</span>)                   │ (<span style=\"color: #00af00; text-decoration-color: #00af00\">32</span>, <span style=\"color: #00af00; text-decoration-color: #00af00\">1</span>)                │            <span style=\"color: #00af00; text-decoration-color: #00af00\">65</span> │\n",
              "└─────────────────────────────────┴────────────────────────┴───────────────┘\n",
              "</pre>\n"
            ],
            "text/plain": [
              "┏━━━━━━━━━━━━━━━━━━━━━━━━━━━━━━━━━┳━━━━━━━━━━━━━━━━━━━━━━━━┳━━━━━━━━━━━━━━━┓\n",
              "┃\u001b[1m \u001b[0m\u001b[1mLayer (type)                   \u001b[0m\u001b[1m \u001b[0m┃\u001b[1m \u001b[0m\u001b[1mOutput Shape          \u001b[0m\u001b[1m \u001b[0m┃\u001b[1m \u001b[0m\u001b[1m      Param #\u001b[0m\u001b[1m \u001b[0m┃\n",
              "┡━━━━━━━━━━━━━━━━━━━━━━━━━━━━━━━━━╇━━━━━━━━━━━━━━━━━━━━━━━━╇━━━━━━━━━━━━━━━┩\n",
              "│ embedding (\u001b[38;5;33mEmbedding\u001b[0m)           │ (\u001b[38;5;34m32\u001b[0m, \u001b[38;5;34m32\u001b[0m, \u001b[38;5;34m100\u001b[0m)          │       \u001b[38;5;34m323,000\u001b[0m │\n",
              "├─────────────────────────────────┼────────────────────────┼───────────────┤\n",
              "│ lstm (\u001b[38;5;33mLSTM\u001b[0m)                     │ (\u001b[38;5;34m32\u001b[0m, \u001b[38;5;34m64\u001b[0m)               │        \u001b[38;5;34m42,240\u001b[0m │\n",
              "├─────────────────────────────────┼────────────────────────┼───────────────┤\n",
              "│ dense (\u001b[38;5;33mDense\u001b[0m)                   │ (\u001b[38;5;34m32\u001b[0m, \u001b[38;5;34m1\u001b[0m)                │            \u001b[38;5;34m65\u001b[0m │\n",
              "└─────────────────────────────────┴────────────────────────┴───────────────┘\n"
            ]
          },
          "metadata": {},
          "output_type": "display_data"
        },
        {
          "data": {
            "text/html": [
              "<pre style=\"white-space:pre;overflow-x:auto;line-height:normal;font-family:Menlo,'DejaVu Sans Mono',consolas,'Courier New',monospace\"><span style=\"font-weight: bold\"> Total params: </span><span style=\"color: #00af00; text-decoration-color: #00af00\">1,095,917</span> (4.18 MB)\n",
              "</pre>\n"
            ],
            "text/plain": [
              "\u001b[1m Total params: \u001b[0m\u001b[38;5;34m1,095,917\u001b[0m (4.18 MB)\n"
            ]
          },
          "metadata": {},
          "output_type": "display_data"
        },
        {
          "data": {
            "text/html": [
              "<pre style=\"white-space:pre;overflow-x:auto;line-height:normal;font-family:Menlo,'DejaVu Sans Mono',consolas,'Courier New',monospace\"><span style=\"font-weight: bold\"> Trainable params: </span><span style=\"color: #00af00; text-decoration-color: #00af00\">365,305</span> (1.39 MB)\n",
              "</pre>\n"
            ],
            "text/plain": [
              "\u001b[1m Trainable params: \u001b[0m\u001b[38;5;34m365,305\u001b[0m (1.39 MB)\n"
            ]
          },
          "metadata": {},
          "output_type": "display_data"
        },
        {
          "data": {
            "text/html": [
              "<pre style=\"white-space:pre;overflow-x:auto;line-height:normal;font-family:Menlo,'DejaVu Sans Mono',consolas,'Courier New',monospace\"><span style=\"font-weight: bold\"> Non-trainable params: </span><span style=\"color: #00af00; text-decoration-color: #00af00\">0</span> (0.00 B)\n",
              "</pre>\n"
            ],
            "text/plain": [
              "\u001b[1m Non-trainable params: \u001b[0m\u001b[38;5;34m0\u001b[0m (0.00 B)\n"
            ]
          },
          "metadata": {},
          "output_type": "display_data"
        },
        {
          "data": {
            "text/html": [
              "<pre style=\"white-space:pre;overflow-x:auto;line-height:normal;font-family:Menlo,'DejaVu Sans Mono',consolas,'Courier New',monospace\"><span style=\"font-weight: bold\"> Optimizer params: </span><span style=\"color: #00af00; text-decoration-color: #00af00\">730,612</span> (2.79 MB)\n",
              "</pre>\n"
            ],
            "text/plain": [
              "\u001b[1m Optimizer params: \u001b[0m\u001b[38;5;34m730,612\u001b[0m (2.79 MB)\n"
            ]
          },
          "metadata": {},
          "output_type": "display_data"
        }
      ],
      "source": [
        "model.summary()"
      ]
    },
    {
      "cell_type": "markdown",
      "metadata": {
        "id": "IvTDADR-_pgN"
      },
      "source": [
        "#### 2. Discuss the number of layers, the type of layers, and the total number of parameters."
      ]
    },
    {
      "cell_type": "markdown",
      "metadata": {
        "id": "IIPch309_0H8"
      },
      "source": [
        "The RNN network that I used for this analysis consists of 3 layers.\n",
        "\n",
        "1. The embedding layer that creates the embedding vectors out of the tokenized text inputs that are passed to it. Its input shape is made up of the 32 reviews sent to it simultaneously because of the batching (default value) and the max review length of 32 that all other reviews reached with padding. Its output shape is the exact same, except for now each token has an aditional layer of depth to it, being expanded out by 100 dimensions from the embedding process. This is what is referred to by the \"Embedding Length\" (Kwan, 2023)\n",
        "2. The LSTM layer is the real meat of the RNN. This is the layer with all of the hidden nodes. Its doing all of the analysis on the embedding vectors to make predictions. LSTM stands for Long Short Term Memory. Which refers to a short term sequence memory being applied over long gaps in the sequence. Thus long-short-term memory. In this layer I have put 64 different node. Which is the cause for the result of 64 output numbers per review being passed in. These 64 nodes that make up the hidden layers are individually used only half of the time, since I am using a 50% dropout parameter. This makes it so that no single node is overly powerful in its weights applied, and ensure that the model does not over fit to the training data. (Virahonda, 2020)\n",
        "3. Finally the last layer is a dense layer, which is used to reduce the response down to a single value, the last layer uses a sigmoid activation function to condense all of the input values down into 1, the output. \n",
        "\n",
        "The total number of parameters is 1,095,917 which means that across all of the embeddings that are passed through the multiple layers both explicit and hidden, 1,095,917 weights and biases got applied at the various nodes. \n",
        "\n",
        "I did decide to only use 1 hidden layer here, with the LSTM layer. Its very common for RNN networks to only have a few hidden layers, and in testing with upwards of 3 hidden layers, I didn't see any additional gains over just the single layer. So for the sake of keeping the network light while also ensuring accuracy, we are just going to use 1 hidden LSTM layer. "
      ]
    },
    {
      "cell_type": "markdown",
      "metadata": {
        "id": "tYfpVYNLa-9b"
      },
      "source": [
        "#### 3. Justify the choice of hyperparameters, including the following elements:"
      ]
    },
    {
      "cell_type": "markdown",
      "metadata": {
        "id": "Q3B6tJHRtO70"
      },
      "source": [
        "- activation functions\n",
        "  - The only activation function that I left in my network was the Sigmoid activation in the output layer. This is considered across the industry as the best function for condensing to a binary value. I did try out using a relu activation function between my hidden layers, but that seemed to poorly impact accuracy so it was removed. "
      ]
    },
    {
      "cell_type": "markdown",
      "metadata": {
        "id": "I-7OmeWAtUyv"
      },
      "source": [
        "- number of nodes per layer\n",
        "  - This is an interesting metric to play with, cause there is no \"perfect\" number to place here, It has to be discovered empirically. So thats how I did it. I set the model inside of a loop that ran performance checks at intervals of 2 digit jumps for the count of nodes in the hidden layer. It demonstrated decreasing accuracy as the size of the hidden layer nodes grew. Too small too was no good as I decided to dropout half of the nodes randomly each run in order to mitigate the chances of overfitting. The sweetspot was I ended up with was 64 Nodes."
      ]
    },
    {
      "cell_type": "markdown",
      "metadata": {
        "id": "jHCj484ltVJJ"
      },
      "source": [
        "- loss function\n",
        "  - With a binary output really the best and only choice in loss functions is the `binary_crossentropy` function. It is the best for that use case."
      ]
    },
    {
      "cell_type": "markdown",
      "metadata": {
        "id": "9T17tI0-tVcQ"
      },
      "source": [
        "- optimizer\n",
        "  - Adam is the best optimizer. And that doesn't even really need a defense, Its widely accepted as the best and used as such. It uses the best gradient decent for optimizing the direction of the network."
      ]
    },
    {
      "cell_type": "markdown",
      "metadata": {
        "id": "7R7x6rr1tVrh"
      },
      "source": [
        "- stopping criteria\n",
        "  - I did use a stopping criteria callback function to prevent wasted compute on epochs with likely worse performance. I used a patience window of 3 which, if anything, that was too big. 2 would have sufficed, but I wanted to be extra sure, and a singular extra epoch is not impactful enough to the compute cost or speed to really make any difference. "
      ]
    },
    {
      "cell_type": "markdown",
      "metadata": {
        "id": "T0Eeq4M9tWBd"
      },
      "source": [
        "- evaluation metric\n",
        "  - For the evaluation metric we kept things simple. Just straight up Accuracy. A measure of the percentage of the inputs, that with the current weights in the network would predict the same value as their labels. For training purposes across the epochs however, this accuracy number had to be based on the validation set, and not the training set. This helps to further minimize the likely hood of overfitting. "
      ]
    },
    {
      "cell_type": "markdown",
      "metadata": {
        "id": "9WcK_yDdtwQX"
      },
      "source": [
        "## Part IV: Model Evaluation"
      ]
    },
    {
      "cell_type": "markdown",
      "metadata": {
        "id": "Vkv5k2Rht8af"
      },
      "source": [
        "### D.  Evaluate the model training process and its relevant outcomes by doing the following:"
      ]
    },
    {
      "cell_type": "markdown",
      "metadata": {
        "id": "EydBYi8KuFD2"
      },
      "source": [
        "1.  Discuss the impact of using stopping criteria to include defining the number of epochs, including a screenshot showing the final training epoch."
      ]
    },
    {
      "cell_type": "markdown",
      "metadata": {},
      "source": [
        "The biggest expense in training an NLP model is the expense of Compute. It takes a lot of power to iterate in a million different ways across all of the different models and fine tune their hyper parameters. One of the easiest ways to save on that compute cost and speed up the training process is to cut it short early. Since the models train in sequential epochs, the best way to cut it short is to just not allow it to continue to the next epoch if it appears to not be improving any further. There really is no perfect way of knowing when it is not improving further, but the way that I used is to stop the epochs after 3 epochs in a row fail to improve on the best validation accuracy metric the previous epoch had achieved. This does leave us with the possibility of falling into a local minima, but the chances of that are small enough and mostly handled by the use of Validation Accuracy as the stopping metric that the saved time and costs outweigh the possible loss from a local minima stop. I almost never saw any improvements in accuracy outside of ~15 epochs, so as a final stopping criteria I set 15 as the max number of epochs my model would execute. In the training fit, my model got to 12 epochs before the acurracy criteria stopped it short. The screen shot of the last 2 epochs' results are attached."
      ]
    },
    {
      "cell_type": "markdown",
      "metadata": {},
      "source": [
        "![result](./final_epoch_result.png)"
      ]
    },
    {
      "cell_type": "markdown",
      "metadata": {
        "id": "TdlHfM2ruGYO"
      },
      "source": [
        "2.  Assess the fitness of the model and any actions taken to address overfitting."
      ]
    },
    {
      "cell_type": "markdown",
      "metadata": {},
      "source": [
        "A number of steps were taken to avoid overfitting that have already been mentioned. Namely, that accuracy was measured through the validation set the entire training process and that dropouts were used in the hidden layers. The confirmation of this is seen in the testing of model with the left aside testing set of data (separated from botht he training data and the validation data) As seen below, the testing results are as good if not better than the validation results. Which means we did a really good job at avoiding overfitting, and ultimately achieved 80% accuracy with data not at all involved in the model creation. This high accuracy with the testing data indicates a proper pattern recognition, meaning that it also did not under fit from the training data, but was able to predict sentiments correctly over 80% of the time. Much better than the 50% of the time that would have happened with just random chance. "
      ]
    },
    {
      "cell_type": "code",
      "execution_count": 17,
      "metadata": {},
      "outputs": [
        {
          "name": "stdout",
          "output_type": "stream",
          "text": [
            "\u001b[1m13/13\u001b[0m \u001b[32m━━━━━━━━━━━━━━━━━━━━\u001b[0m\u001b[37m\u001b[0m \u001b[1m0s\u001b[0m 5ms/step - accuracy: 0.7945 - loss: 0.7902 \n",
            "Test Loss: 0.669361412525177\n",
            "Test Accuracy: 0.8075000047683716\n"
          ]
        }
      ],
      "source": [
        "results = model.evaluate(testing_input_padded, testing_output)\n",
        "\n",
        "print('Test Loss:', results[0])\n",
        "print('Test Accuracy:', results[1])"
      ]
    },
    {
      "cell_type": "markdown",
      "metadata": {
        "id": "MkILKChtuKn0"
      },
      "source": [
        "3.  Provide visualizations of the model's training process, including a line graph of the loss and chosen evaluation metric."
      ]
    },
    {
      "cell_type": "code",
      "execution_count": 18,
      "metadata": {},
      "outputs": [
        {
          "data": {
            "image/png": "[encoded data removed]",
            "text/plain": [
              "<Figure size 1200x500 with 2 Axes>"
            ]
          },
          "metadata": {},
          "output_type": "display_data"
        }
      ],
      "source": [
        "history_df = pd.DataFrame(history.history)\n",
        "\n",
        "fig, axes = plt.subplots(1, 2, figsize=(12, 5))\n",
        "sns.lineplot(data=history_df[['accuracy', 'val_accuracy']], ax=axes[0])\n",
        "sns.lineplot(data=history_df[['loss', 'val_loss']], ax=axes[1])\n",
        "axes[0].set_title('Accuracy')\n",
        "axes[1].set_title('Loss')\n",
        "axes[0].set_xlabel('Epochs')\n",
        "axes[1].set_xlabel('Epochs')\n",
        "axes[0].set_ylabel('Percentage')\n",
        "axes[1].set_ylabel('Loss Value')\n",
        "plt.tight_layout()\n",
        "plt.show()"
      ]
    },
    {
      "cell_type": "markdown",
      "metadata": {
        "id": "IBIuiyQ9uM-O"
      },
      "source": [
        "4.  Discuss the predictive accuracy of the trained network using the chosen evaluation metric from part D3."
      ]
    },
    {
      "cell_type": "markdown",
      "metadata": {},
      "source": [
        "The validation accuracy was the metric I chose to optimize my model towards. It is produced using the quotient of the number of reviews that the model would have predicted correctly with the total number of validation reviews tested. The validation data is involved in the training process since the accuracy of it is computed each epoch and the continuation of the epochs is determined by its most recent calulation of the validation accuracy with the model weights as they are currently set. But It is not used in the actual training and determining of the weights at each node. So since it is removed from the actually training, but not so much so as to be uninvolved in the training, it is a very good metric to use for Predictive acurracy and getting an honest picture of how that looks. \n",
        "\n",
        "Ultimately the accuracy that we care about though is the predictive accuracy of unknown and unlabeled data. To synthesize this, I set aside a portion of the data as a Testing Set. Running this data through the already trained model gave me an accuracy measure of how the model performs predictavely on unseen data, and it did great. >80% accuracy!"
      ]
    },
    {
      "cell_type": "markdown",
      "metadata": {
        "id": "JjkjyKiXbOjS"
      },
      "source": [
        "## Part V: Data Summary and Implications"
      ]
    },
    {
      "cell_type": "markdown",
      "metadata": {
        "id": "dEgCak3ZbQMQ"
      },
      "source": [
        "### E. Provide the code you used to save the trained network within the neural network."
      ]
    },
    {
      "cell_type": "code",
      "execution_count": 19,
      "metadata": {},
      "outputs": [],
      "source": [
        "model.save('best_model.keras')"
      ]
    },
    {
      "cell_type": "markdown",
      "metadata": {
        "id": "0ZA_IRnxU8Ac"
      },
      "source": [
        "### F. Discuss the functionality of your neural network, including the impact of the network architecture."
      ]
    },
    {
      "cell_type": "markdown",
      "metadata": {},
      "source": [
        "The Neural Netowrk is initially powered by the input data coming from over 2000 reviews from the Amazon and Yelp platforms about our company and the products that we sell. Those reviews were labeled with their sentiment (either positive or negative) and the model was optimized to produce outcomes that coincided with the provided labels. This makes the network capable of producing a sentiment lable for reviews that were even not included in the training. The network architecture uses to achieve this was the keras API built into the tensorflow package. That api allowed for easy use of common NLP functions that allowed me to build the RNN network that I did. It also allowed for the network to be optimized in training across the hyper parameter inputs and model design (number and types of layers). All of this architecture was ultimately pointed at the goal of accurate predictive capacity. And it appears to have achieved that well."
      ]
    },
    {
      "cell_type": "markdown",
      "metadata": {
        "id": "5NJdEk2wVM8K"
      },
      "source": [
        "### G. Recommend a course of action based on your results."
      ]
    },
    {
      "cell_type": "markdown",
      "metadata": {},
      "source": [
        "Referring back to the original questions and goal of this analysis, I can now confidently answer that yes, It is possible to produce a model that can automatically assign a sentiment label to future reviews that are recieved. The model that we were able to produce works very well in lebeling reviews accurately. \n",
        "\n",
        "Now that we know that, the course of action I would recomend is to set up a pipeline for new reviews that are recieved, so that their text content automatically gets evalutated with this model. Based on the assigned label, the review can then get forwarded to either the marketing department for a case study support (positive sentiment) or the the customer support team for triaging (negative sentiment). "
      ]
    },
    {
      "cell_type": "markdown",
      "metadata": {
        "id": "rp43sU6qbwDo"
      },
      "source": [
        "## Part VI: Reporting"
      ]
    },
    {
      "cell_type": "markdown",
      "metadata": {
        "id": "Zfe_m5uob7qP"
      },
      "source": [
        "### H. This Notebook\n",
        "\n",
        "https://colab.research.google.com/drive/11awhUENecmwxPD4t_fAp2ySJu5DWX2DU?usp=sharing"
      ]
    },
    {
      "cell_type": "markdown",
      "metadata": {
        "id": "Skd005HNbyNZ"
      },
      "source": [
        "### I/J. Works Cited\n",
        "\n",
        "9.4. recurrent neural networks. 9.4. Recurrent Neural Networks - Dive into Deep Learning 1.0.3 documentation. (n.d.). https://d2l.ai/chapter_recurrent-neural-networks/rnn.html \n",
        "\n",
        "Kwan, M. (2023, September 6). Finding the optimal number of dimensions for word embeddings. Medium. https://medium.com/@matti.kwan/finding-the-optimal-number-of-dimensions-for-word-embeddings-f19f71666723 \n",
        "\n",
        "szli, & Andy Hayden. (1958, February 1). How to reshape a pandas.series. Stack Overflow. https://stackoverflow.com/questions/14390224/how-to-reshape-a-pandas-series \n",
        "\n",
        "Tamim Addari, & Daniel De Freitas. (1961, December 1). How to stack multiple LSTM in Keras?. Stack Overflow. https://stackoverflow.com/questions/40331510/how-to-stack-multiple-lstm-in-keras \n",
        "\n",
        "Team, K. (n.d.-a). Keras documentation: Embedding layer. https://keras.io/api/layers/core_layers/embedding/ \n",
        "\n",
        "Team, K. (n.d.-b). Keras Documentation: LSTM Layer. https://keras.io/api/layers/recurrent_layers/lstm/ \n",
        "\n",
        "Team, K. (n.d.-c). Keras Documentation: Model training apis. https://keras.io/api/models/model_training_apis/#evaluate-method \n",
        "\n",
        "Team, K. (n.d.-d). Keras Documentation: Modelcheckpoint. https://keras.io/api/callbacks/model_checkpoint/ \n",
        "\n",
        "Tf.keras.utils.pad_sequences  :   tensorflow V2.16.1. TensorFlow. (n.d.). https://www.tensorflow.org/api_docs/python/tf/keras/utils/pad_sequences \n",
        "\n",
        "Virahonda, S. (2020, October 10). An easy tutorial about sentiment analysis with deep learning and keras. Medium. https://towardsdatascience.com/an-easy-tutorial-about-sentiment-analysis-with-deep-learning-and-keras-2bf52b9cba91 \n",
        "\n",
        "Wikimedia Foundation. (2024, December 12). Long short-term memory. Wikipedia. https://en.wikipedia.org/wiki/Long_short-term_memory "
      ]
    }
  ],
  "metadata": {
    "colab": {
      "collapsed_sections": [
        "2bRBZEr4arZ-"
      ],
      "provenance": []
    },
    "kernelspec": {
      "display_name": "3.12.0",
      "language": "python",
      "name": "python3"
    },
    "language_info": {
      "codemirror_mode": {
        "name": "ipython",
        "version": 3
      },
      "file_extension": ".py",
      "mimetype": "text/x-python",
      "name": "python",
      "nbconvert_exporter": "python",
      "pygments_lexer": "ipython3",
      "version": "3.12.0"
    }
  },
  "nbformat": 4,
  "nbformat_minor": 0
}
